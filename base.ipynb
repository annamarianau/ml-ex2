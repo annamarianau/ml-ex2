{
 "cells": [
  {
   "cell_type": "code",
   "execution_count": 1,
   "metadata": {},
   "outputs": [],
   "source": [
    "# test\n",
    "# %run './base.ipynb'"
   ]
  },
  {
   "cell_type": "markdown",
   "metadata": {},
   "source": [
    "## Preprocessing\n",
    "- impute (various kinds)/dummy values/drop missing values\n",
    "- outlier removal?\n",
    "- Scale (standardize)/don't scale \n",
    "- feature selection (PCA, etc.)/none\n",
    "\n",
    "## Models\n",
    "- Linear Regression (Anna)\n",
    "- SVR (Moritz)\n",
    "- GradientBoostingRegressor (David)\n",
    "\n",
    "## Params\n",
    "- cv=10\n",
    "- scoring=['r2', 'neg_mean_absolute_error', 'neg_mean_squared_error']\n",
    "- Best params wählen nach MSE, aber auch r^2 notieren für Vergleichbarkeit\n",
    "\n",
    "## AutoML\n",
    "- \n",
    "\n",
    "## Datasets\n",
    "- Bike sharing (Kaggle) ()\n",
    "    - https://www.kaggle.com/c/184702-tu-ml-ws-18-bike-sharing#_=_\n",
    "    - large samples (train = 8690), small dimension (15)\n",
    "    - attribute characteristics: numeric, date?\n",
    "- Student performance (Kaggle) (Moritz)\n",
    "    - https://www.kaggle.com/c/184702-tu-ml-ws-18-student-performance\n",
    "    - small samples (train = 198), medium dimension (32)\n",
    "    - attribute characteristics: numeric, categorical \n",
    "- Blog feedback (David)\n",
    "    - https://archive.ics.uci.edu/ml/datasets/BlogFeedback\n",
    "    - very large samples (60021), large dimension (281)\n",
    "    - attribute characteristics: numeric\n",
    "- Forest fires (Anna)\n",
    "    - https://archive.ics.uci.edu/ml/datasets/Forest+Fires\n",
    "    - medium samples (513), small dimension (13) \n",
    "    - attribute characteristics: numeric\n",
    "    \n",
    "## Steps\n",
    "- Imports for all Datasets\n",
    "- functions for all Regressors"
   ]
  },
  {
   "cell_type": "code",
   "execution_count": null,
   "metadata": {},
   "outputs": [],
   "source": [
    "# Preprocessing\n"
   ]
  },
  {
   "cell_type": "code",
   "execution_count": 2,
   "metadata": {},
   "outputs": [],
   "source": [
    "# Linear Regression\n"
   ]
  },
  {
   "cell_type": "code",
   "execution_count": 3,
   "metadata": {},
   "outputs": [],
   "source": [
    "# SVR\n"
   ]
  },
  {
   "cell_type": "code",
   "execution_count": 4,
   "metadata": {},
   "outputs": [],
   "source": [
    "# Gradient Boosting\n"
   ]
  },
  {
   "cell_type": "code",
   "execution_count": null,
   "metadata": {},
   "outputs": [],
   "source": []
  }
 ],
 "metadata": {
  "kernelspec": {
   "display_name": "Python 3",
   "language": "python",
   "name": "python3"
  },
  "language_info": {
   "codemirror_mode": {
    "name": "ipython",
    "version": 3
   },
   "file_extension": ".py",
   "mimetype": "text/x-python",
   "name": "python",
   "nbconvert_exporter": "python",
   "pygments_lexer": "ipython3",
   "version": "3.7.1"
  }
 },
 "nbformat": 4,
 "nbformat_minor": 1
}
