{
 "cells": [
  {
   "cell_type": "code",
   "execution_count": 6,
   "metadata": {
    "scrolled": false
   },
   "outputs": [
    {
     "name": "stdout",
     "output_type": "stream",
     "text": [
      "Nons!\n"
     ]
    }
   ],
   "source": [
    "# Check if DataFrame df has nans\n",
    "import pandas as pd\n",
    "df = pd.DataFrame()\n",
    "if(df.isnull().values.any()): \n",
    "    print('NaNs!')\n",
    "else: \n",
    "    print('Nons!')"
   ]
  },
  {
   "cell_type": "code",
   "execution_count": 7,
   "metadata": {},
   "outputs": [],
   "source": [
    "# create boxplot for every (int64, float64) column in df \n",
    "import matplotlib.pyplot as plt\n",
    "def boxplots(data):\n",
    "    for col in data.select_dtypes(['int64', 'float64']).columns:\n",
    "        fig, ax = plt.subplots()\n",
    "        bp = ax.boxplot(data[[col]].values)\n",
    "        ax.set_xlabel(col)\n",
    "        \n",
    "boxplots(df)"
   ]
  },
  {
   "cell_type": "code",
   "execution_count": 11,
   "metadata": {},
   "outputs": [],
   "source": [
    "# create histogram for every (object) column in df \n",
    "import matplotlib.pyplot as plt\n",
    "def histograms(data):\n",
    "    for col in data.select_dtypes(['object']).columns:\n",
    "        fig, ax = plt.subplots()\n",
    "        hg = ax.hist(data[[col]].values)\n",
    "        ax.set_xlabel(col)\n",
    "        \n",
    "histograms(df)"
   ]
  },
  {
   "cell_type": "code",
   "execution_count": null,
   "metadata": {},
   "outputs": [],
   "source": []
  }
 ],
 "metadata": {
  "kernelspec": {
   "display_name": "Python 3",
   "language": "python",
   "name": "python3"
  },
  "language_info": {
   "codemirror_mode": {
    "name": "ipython",
    "version": 3
   },
   "file_extension": ".py",
   "mimetype": "text/x-python",
   "name": "python",
   "nbconvert_exporter": "python",
   "pygments_lexer": "ipython3",
   "version": "3.7.0"
  }
 },
 "nbformat": 4,
 "nbformat_minor": 1
}
