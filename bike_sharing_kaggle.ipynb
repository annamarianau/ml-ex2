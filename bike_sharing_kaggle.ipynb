{
 "cells": [
  {
   "cell_type": "markdown",
   "metadata": {},
   "source": [
    "# Bike sharing (Kaggle) (Moritz)\n",
    "- https://www.kaggle.com/c/184702-tu-ml-ws-18-bike-sharing\n",
    "- large samples (train = 8690), small dimension (15)\n",
    "- attribute characteristics: numeric, date?\n",
    "\n",
    "## Preprocessing\n",
    "- scale (standardize)\n",
    "- drop date-string col ('dteday')\n",
    "\n",
    "### Linear Regression\n",
    "Score created from training data without(!) train-test split.\n",
    "- with and without preprocessing\n",
    "- with all samples: \n",
    "    - <1 s\n",
    "    - R^2: 0.38403\n",
    "    - RMSE: 140.25758\n",
    "    - Kaggle: 143.91026\n",
    "\n",
    "### SVR\n",
    "- without preprocessing\n",
    "- with all samples\n",
    "    - few minutes\n",
    "    - C: 1.0, kernel: linear, epsilon: 0.30000000000000004, gamma: auto \n",
    "    - RMSE: 147.88896\n",
    "    - Kaggle: 152.19112\n",
    "- with preprocessing\n",
    "- with all samples: \n",
    "    - few minutes   \n",
    "    - C: 1.0, kernel: linear, epsilon: 0.5, gamma: auto \n",
    "    - RMSE: 146.11651\n",
    "    - Kaggle: 150.71520\n",
    "\n",
    "### Gradient Boosted Decision Tree\n",
    "- with preprocessing\n",
    "- with 50 samples: \n",
    "    - 13.559 s\n",
    "    - {'max_depth': 5, 'min_samples_split': 15, 'n_estimators': 350}\n",
    "    - RMSE: 89.9571\n",
    "    - Kaggle: 143.91026\n",
    "- with 150 samples: \n",
    "    - 25.025 s\n",
    "    - {'max_depth': 5, 'min_samples_split': 15, 'n_estimators': 350}\n",
    "    - RMSE: 118.99678\n",
    "    - Kaggle: 128.42365\n",
    "- with 500 samples: \n",
    "    - 74.803 s\n",
    "    - {'max_depth': 5, 'min_samples_split': 2, 'n_estimators': 350}\n",
    "    - RMSE: 78.88731\n",
    "    - Kaggle: 128.39004\n",
    "- with 2000 samples:\n",
    "    - 431.691 s\n",
    "    - {'max_depth': 10, 'min_samples_split': 15, 'n_estimators': 350}\n",
    "    - RMSE: 54.24448\n",
    "    - Kaggle: 54.09653\n",
    "- with all samples:\n",
    "    - 4361.643 s\n",
    "    - {'max_depth': 10, 'min_samples_split': 15, 'n_estimators': 350}\n",
    "    - RMSE: 43.12057\n",
    "    - Kaggle: 43.16327\n",
    "    \n",
    "### AutoML \n",
    "- without scaling\n",
    "- with all samples\n",
    "    - minutes? (max 600 s)\n",
    "    - XGBoost_3_AutoML_20190106_135032\n",
    "    - RMSE: 40.08211\n",
    "    - Kaggle: 39.61732\n",
    "    \n",
    "    \n",
    "- more models (60), more time (7200 s)\n",
    "    - ?\n",
    "    - StackedEnsemble_AllModels_AutoML_20190106_155951\n",
    "    - RMSE: 38.94180\n",
    "    - Kaggle: __38.10583__\n",
    "    \n",
    "    \n",
    "- with preprocessing\n",
    "- with all samples\n",
    "    - minutes (max 600 s)\n",
    "    - XGBoost_3_AutoML_20190106_144525\n",
    "    - RMSE: 40.24830\n",
    "    - Kaggle: 39.70656"
   ]
  },
  {
   "cell_type": "code",
   "execution_count": 9,
   "metadata": {},
   "outputs": [],
   "source": [
    "import pandas as pd\n",
    "import sklearn as sk\n",
    "import matplotlib.pyplot as plt\n",
    "import datetime as dt\n",
    "%run './base.ipynb'"
   ]
  },
  {
   "cell_type": "code",
   "execution_count": 10,
   "metadata": {
    "scrolled": true
   },
   "outputs": [],
   "source": [
    "# read train data and drop date\n",
    "train = pd.read_csv('./data/bike_sharing_kaggle/bikeSharing.shuf.train.csv').drop(['dteday'], axis=1)\n",
    "train.set_index(['id'], inplace=True)\n",
    "# extract, then drop 'cnt' col\n",
    "train_target = train[['cnt']]\n",
    "train.drop(['cnt'], axis='columns', inplace=True)\n",
    "\n",
    "# read test data and drop date\n",
    "test = pd.read_csv('./data/bike_sharing_kaggle/bikeSharing.shuf.test.csv').drop(['dteday'], axis=1)\n",
    "test.set_index(['id'], inplace=True)\n",
    "\n",
    "# scale train\n",
    "#train_s, test_s = scale_data(train, test)\n",
    "\n",
    "#X_train = train_s\n",
    "#y_train = train_target\n",
    "#X_test = test_s\n",
    "\n",
    "X_train = train\n",
    "y_train = train_target\n",
    "X_test = test\n",
    "\n",
    "#display(train)\n",
    "#display(X_train.shape)"
   ]
  },
  {
   "cell_type": "code",
   "execution_count": 3,
   "metadata": {},
   "outputs": [
    {
     "name": "stderr",
     "output_type": "stream",
     "text": [
      "/Library/Frameworks/Python.framework/Versions/3.7/lib/python3.7/site-packages/sklearn/linear_model/base.py:485: RuntimeWarning: internal gelsd driver lwork query error, required iwork dimension not returned. This is likely the result of LAPACK bug 0038, fixed in LAPACK 3.2.2 (released July 21, 2010). Falling back to 'gelss' driver.\n",
      "  linalg.lstsq(X, y)\n"
     ]
    },
    {
     "name": "stdout",
     "output_type": "stream",
     "text": [
      "R^2 value for model: 0.38403\n",
      "Predict:\n",
      "RMSE: 140.25758\n",
      "R^2 Score: 0.38403\n",
      "Saved as lr_2019-01-06 13:34:13.249858.csv\n"
     ]
    }
   ],
   "source": [
    "# Linear Regression\n",
    "# predict on X_train (to replace missing MSE in LinearRegression)\n",
    "reg = linear_reg(X_train, y_train, X_train, y_train)\n",
    "result = pd.DataFrame(reg.predict(X_test), columns=['cnt'])\n",
    "\n",
    "# join id col\n",
    "result = pd.concat([X_test.reset_index()[['id']], result], axis='columns')\n",
    "\n",
    "# Save result\n",
    "filename = f'''lr_{dt.datetime.now()}.csv'''\n",
    "\n",
    "result.to_csv('./predictions/bike_sharing_kaggle/' + filename, sep = \",\", index=False)\n",
    "print(f'''Saved as {filename}''')\n",
    "\n",
    "#display(result)"
   ]
  },
  {
   "cell_type": "code",
   "execution_count": 4,
   "metadata": {},
   "outputs": [
    {
     "name": "stdout",
     "output_type": "stream",
     "text": [
      "GridSearch initializing...\n",
      "SVR model in training...\n",
      "MSE: 21871.14445, RMSE: 147.88896, \n",
      "C: 1.0, kernel: linear, epsilon: 0.30000000000000004, gamma: auto \n",
      "Saved as svr_C-1.0_k-linear_e-0.30000000000000004_g-auto_2019-01-06 13:43:58.951959.csv\n"
     ]
    }
   ],
   "source": [
    "# SVR\n",
    "# params\n",
    "param_grid = {\n",
    "    'C': np.linspace(.2,1,5),\n",
    "    'kernel': ['linear'],#, 'rbf', 'sigmoid', 'poly'], # poly very slow\n",
    "    'epsilon': np.linspace(0,.5,6),\n",
    "    'gamma': ['auto']\n",
    "}\n",
    "\n",
    "# run grid search\n",
    "gs = run_svr(X_train, y_train.values.ravel(), cv=5, param_grid=param_grid)\n",
    "\n",
    "# predict\n",
    "result = pd.DataFrame(gs.best_estimator_.predict(X_test), columns=['cnt'])\n",
    "\n",
    "# join id col\n",
    "result = pd.concat([X_test.reset_index()[['id']], result], axis='columns')\n",
    "#display(result)\n",
    "\n",
    "# Create SVR filename\n",
    "filename = f'''svr_'''\\\n",
    "           f'''C-{gs.best_estimator_.C}_'''\\\n",
    "           f'''k-{gs.best_estimator_.kernel}_'''\\\n",
    "           f'''e-{gs.best_estimator_.epsilon}_'''\\\n",
    "           f'''g-{gs.best_estimator_.gamma}_'''\\\n",
    "           f'''{dt.datetime.now()}.csv'''\n",
    "\n",
    "result.to_csv('./predictions/bike_sharing_kaggle/' + filename, sep = \",\", index=False)\n",
    "print(f'''Saved as {filename}''')"
   ]
  },
  {
   "cell_type": "code",
   "execution_count": 21,
   "metadata": {},
   "outputs": [
    {
     "name": "stdout",
     "output_type": "stream",
     "text": [
      "GridSearch initializing...\n",
      "GradientBoostedRegressor model in training...\n",
      "GradientBoostedRegressor model selected and fitted in 4361.643 s\n",
      "\n",
      "MSE: 1859.38335, RMSE: 43.12057\n",
      "Best parameters selected by GridSearch: {'max_depth': 10, 'min_samples_split': 15, 'n_estimators': 350}\n",
      "Saved as gbdtree_ne-350_md-10_mss-15_2019-01-02 01:53:02.486364.csv\n"
     ]
    }
   ],
   "source": [
    "# Gradient Boosted Decision Tree\n",
    "param_fix = {\n",
    "    'learning_rate': .01, \n",
    "    'loss': 'ls'\n",
    "}\n",
    "\n",
    "param_grid = {\n",
    "    'n_estimators': (1, 10, 100, 200, 350),# 500), \n",
    "    'max_depth': (1, 5, 10, 25),# 50), \n",
    "    'min_samples_split': (2, 5, 15),# 50)\n",
    "}\n",
    "\n",
    "num_samples = 500\n",
    "#X = X_train.iloc[:num_samples, :]\n",
    "#y = y_train.iloc[:num_samples, :].values.ravel()\n",
    "\n",
    "X = X_train\n",
    "y = y_train.values.ravel()\n",
    "\n",
    "gs = run_boosted_tree(X, y, [], [], param_fix=param_fix, cv=10, param_grid=param_grid)\n",
    "\n",
    "#plot_scores(gbt.cv_results_)\n",
    "#plot_training_deviance(gbt, test_data, test_target)\n",
    "\n",
    "# predict\n",
    "result = pd.DataFrame(gs.best_estimator_.predict(X_test), columns=['cnt'])\n",
    "\n",
    "# join id col\n",
    "result = pd.concat([X_test.reset_index()[['id']], result], axis='columns')\n",
    "#display(result)\n",
    "\n",
    "# Create SVR filename\n",
    "filename = f'''gbdtree_'''\\\n",
    "           f'''ne-{gs.best_estimator_.n_estimators}_'''\\\n",
    "           f'''md-{gs.best_estimator_.max_depth}_'''\\\n",
    "           f'''mss-{gs.best_estimator_.min_samples_split}_'''\\\n",
    "           f'''{dt.datetime.now()}.csv'''\n",
    "\n",
    "result.to_csv('./predictions/bike_sharing_kaggle/' + filename, sep = \",\", index=False)\n",
    "print(f'''Saved as {filename}''')"
   ]
  },
  {
   "cell_type": "code",
   "execution_count": 11,
   "metadata": {},
   "outputs": [
    {
     "name": "stdout",
     "output_type": "stream",
     "text": [
      "Checking whether there is an H2O instance running at http://localhost:54321. connected.\n"
     ]
    },
    {
     "data": {
      "text/html": [
       "<div style=\"overflow:auto\"><table style=\"width:50%\"><tr><td>H2O cluster uptime:</td>\n",
       "<td>5 hours 40 mins</td></tr>\n",
       "<tr><td>H2O cluster timezone:</td>\n",
       "<td>Europe/Vienna</td></tr>\n",
       "<tr><td>H2O data parsing timezone:</td>\n",
       "<td>UTC</td></tr>\n",
       "<tr><td>H2O cluster version:</td>\n",
       "<td>3.22.1.1</td></tr>\n",
       "<tr><td>H2O cluster version age:</td>\n",
       "<td>9 days </td></tr>\n",
       "<tr><td>H2O cluster name:</td>\n",
       "<td>H2O_from_python_Moritz_rnh332</td></tr>\n",
       "<tr><td>H2O cluster total nodes:</td>\n",
       "<td>1</td></tr>\n",
       "<tr><td>H2O cluster free memory:</td>\n",
       "<td>2.184 Gb</td></tr>\n",
       "<tr><td>H2O cluster total cores:</td>\n",
       "<td>8</td></tr>\n",
       "<tr><td>H2O cluster allowed cores:</td>\n",
       "<td>4</td></tr>\n",
       "<tr><td>H2O cluster status:</td>\n",
       "<td>locked, healthy</td></tr>\n",
       "<tr><td>H2O connection url:</td>\n",
       "<td>http://localhost:54321</td></tr>\n",
       "<tr><td>H2O connection proxy:</td>\n",
       "<td>None</td></tr>\n",
       "<tr><td>H2O internal security:</td>\n",
       "<td>False</td></tr>\n",
       "<tr><td>H2O API Extensions:</td>\n",
       "<td>XGBoost, Algos, AutoML, Core V3, Core V4</td></tr>\n",
       "<tr><td>Python version:</td>\n",
       "<td>3.7.0 final</td></tr></table></div>"
      ],
      "text/plain": [
       "--------------------------  ----------------------------------------\n",
       "H2O cluster uptime:         5 hours 40 mins\n",
       "H2O cluster timezone:       Europe/Vienna\n",
       "H2O data parsing timezone:  UTC\n",
       "H2O cluster version:        3.22.1.1\n",
       "H2O cluster version age:    9 days\n",
       "H2O cluster name:           H2O_from_python_Moritz_rnh332\n",
       "H2O cluster total nodes:    1\n",
       "H2O cluster free memory:    2.184 Gb\n",
       "H2O cluster total cores:    8\n",
       "H2O cluster allowed cores:  4\n",
       "H2O cluster status:         locked, healthy\n",
       "H2O connection url:         http://localhost:54321\n",
       "H2O connection proxy:\n",
       "H2O internal security:      False\n",
       "H2O API Extensions:         XGBoost, Algos, AutoML, Core V3, Core V4\n",
       "Python version:             3.7.0 final\n",
       "--------------------------  ----------------------------------------"
      ]
     },
     "metadata": {},
     "output_type": "display_data"
    },
    {
     "name": "stdout",
     "output_type": "stream",
     "text": [
      "Parse progress: |█████████████████████████████████████████████████████████| 100%\n",
      "Parse progress: |█████████████████████████████████████████████████████████| 100%\n",
      "AutoML progress: |████████████████████████████████████████████████████████| 100%\n",
      "AutoML training performed in 308.85472106933594 s.\n"
     ]
    },
    {
     "data": {
      "text/plain": [
       "'AutoML Leaderboard'"
      ]
     },
     "metadata": {},
     "output_type": "display_data"
    },
    {
     "data": {
      "text/html": [
       "<table>\n",
       "<thead>\n",
       "<tr><th>model_id                                           </th><th style=\"text-align: right;\">  mean_residual_deviance</th><th style=\"text-align: right;\">   rmse</th><th style=\"text-align: right;\">    mse</th><th style=\"text-align: right;\">    mae</th><th style=\"text-align: right;\">  rmsle</th></tr>\n",
       "</thead>\n",
       "<tbody>\n",
       "<tr><td>XGBoost_3_AutoML_20190106_191613                   </td><td style=\"text-align: right;\">                 1606.58</td><td style=\"text-align: right;\">40.0821</td><td style=\"text-align: right;\">1606.58</td><td style=\"text-align: right;\">25.6245</td><td style=\"text-align: right;\">    nan</td></tr>\n",
       "<tr><td>XGBoost_2_AutoML_20190106_191613                   </td><td style=\"text-align: right;\">                 1623.96</td><td style=\"text-align: right;\">40.2984</td><td style=\"text-align: right;\">1623.96</td><td style=\"text-align: right;\">25.7851</td><td style=\"text-align: right;\">    nan</td></tr>\n",
       "<tr><td>GBM_4_AutoML_20190106_191613                       </td><td style=\"text-align: right;\">                 1662.89</td><td style=\"text-align: right;\">40.7786</td><td style=\"text-align: right;\">1662.89</td><td style=\"text-align: right;\">25.8958</td><td style=\"text-align: right;\">    nan</td></tr>\n",
       "<tr><td>StackedEnsemble_AllModels_AutoML_20190106_191613   </td><td style=\"text-align: right;\">                 1663.78</td><td style=\"text-align: right;\">40.7894</td><td style=\"text-align: right;\">1663.78</td><td style=\"text-align: right;\">25.9587</td><td style=\"text-align: right;\">    nan</td></tr>\n",
       "<tr><td>GBM_3_AutoML_20190106_191613                       </td><td style=\"text-align: right;\">                 1686.72</td><td style=\"text-align: right;\">41.0697</td><td style=\"text-align: right;\">1686.72</td><td style=\"text-align: right;\">26.0725</td><td style=\"text-align: right;\">    nan</td></tr>\n",
       "<tr><td>GBM_2_AutoML_20190106_191613                       </td><td style=\"text-align: right;\">                 1713.47</td><td style=\"text-align: right;\">41.3941</td><td style=\"text-align: right;\">1713.47</td><td style=\"text-align: right;\">26.4211</td><td style=\"text-align: right;\">    nan</td></tr>\n",
       "<tr><td>GBM_1_AutoML_20190106_191613                       </td><td style=\"text-align: right;\">                 1754.87</td><td style=\"text-align: right;\">41.8911</td><td style=\"text-align: right;\">1754.87</td><td style=\"text-align: right;\">26.8181</td><td style=\"text-align: right;\">    nan</td></tr>\n",
       "<tr><td>XGBoost_1_AutoML_20190106_191613                   </td><td style=\"text-align: right;\">                 1861.26</td><td style=\"text-align: right;\">43.1424</td><td style=\"text-align: right;\">1861.26</td><td style=\"text-align: right;\">27.9436</td><td style=\"text-align: right;\">    nan</td></tr>\n",
       "<tr><td>XGBoost_grid_1_AutoML_20190106_191613_model_1      </td><td style=\"text-align: right;\">                 1881.48</td><td style=\"text-align: right;\">43.3761</td><td style=\"text-align: right;\">1881.48</td><td style=\"text-align: right;\">27.9726</td><td style=\"text-align: right;\">    nan</td></tr>\n",
       "<tr><td>StackedEnsemble_BestOfFamily_AutoML_20190106_191613</td><td style=\"text-align: right;\">                 2145.66</td><td style=\"text-align: right;\">46.3213</td><td style=\"text-align: right;\">2145.66</td><td style=\"text-align: right;\">30.1142</td><td style=\"text-align: right;\">    nan</td></tr>\n",
       "</tbody>\n",
       "</table>"
      ]
     },
     "metadata": {},
     "output_type": "display_data"
    },
    {
     "data": {
      "text/plain": []
     },
     "metadata": {},
     "output_type": "display_data"
    }
   ],
   "source": [
    "# AutoML\n",
    "# reset indices to id col\n",
    "X_train_r = X_train.reset_index()\n",
    "#display(X_train_r)\n",
    "y_train_r = y_train.reset_index()\n",
    "#display(y_train_r.info())\n",
    "\n",
    "# create train-test-split\n",
    "X_train1, X_test1, y_train1, y_test1 = train_test_split(X_train_r, y_train_r, random_state=100)\n",
    "train = pd.merge(X_train1, y_train1, on='id')\n",
    "\n",
    "# drop id cols from test set\n",
    "X_test2 = X_test1.drop(['id'], axis=1)\n",
    "y_test2 = y_test1.drop(['id'], axis=1)\n",
    "\n",
    "y_name = 'cnt'\n",
    "aml = run_autoML_moritz(train, y_name, X_test2, y_test2, \n",
    "                        max_models=30, max_runtime=300)"
   ]
  },
  {
   "cell_type": "code",
   "execution_count": 7,
   "metadata": {},
   "outputs": [
    {
     "name": "stdout",
     "output_type": "stream",
     "text": [
      "Model Details\n",
      "=============\n",
      "H2OStackedEnsembleEstimator :  Stacked Ensemble\n",
      "Model Key:  StackedEnsemble_AllModels_AutoML_20190106_155951\n",
      "No model summary for this model\n",
      "\n",
      "\n",
      "ModelMetricsRegressionGLM: stackedensemble\n",
      "** Reported on train data. **\n",
      "\n",
      "MSE: 296.99413300418286\n",
      "RMSE: 17.23351771996022\n",
      "MAE: 10.945189812719754\n",
      "RMSLE: NaN\n",
      "R^2: 0.9908355293330577\n",
      "Mean Residual Deviance: 296.99413300418286\n",
      "Null degrees of freedom: 6516\n",
      "Residual degrees of freedom: 6491\n",
      "Null deviance: 211197224.05462587\n",
      "Residual deviance: 1935510.7647882598\n",
      "AIC: 55654.36845100865\n",
      "\n",
      "ModelMetricsRegressionGLM: stackedensemble\n",
      "** Reported on cross-validation data. **\n",
      "\n",
      "MSE: 1516.4638065123465\n",
      "RMSE: 38.94180024745064\n",
      "MAE: 24.150401962797083\n",
      "RMSLE: NaN\n",
      "R^2: 0.9532058497867152\n",
      "Mean Residual Deviance: 1516.4638065123465\n",
      "Null degrees of freedom: 6516\n",
      "Residual degrees of freedom: 6489\n",
      "Null deviance: 211294516.62786394\n",
      "Residual deviance: 9882794.627040962\n",
      "AIC: 66283.84215410653\n",
      "\n"
     ]
    }
   ],
   "source": [
    "print(aml.leader)"
   ]
  },
  {
   "cell_type": "code",
   "execution_count": 8,
   "metadata": {},
   "outputs": [
    {
     "name": "stdout",
     "output_type": "stream",
     "text": [
      "Parse progress: |█████████████████████████████████████████████████████████| 100%\n",
      "stackedensemble prediction progress: |████████████████████████████████████| 100%\n",
      "Saved as autoML_2019-01-06 18:57:48.786743.csv\n"
     ]
    }
   ],
   "source": [
    "# create predictions for test data\n",
    "X_test_h2o = h2o.H2OFrame(X_test.reset_index())\n",
    "result = aml.predict(X_test_h2o)\n",
    "#result.head(rows=result.nrows)\n",
    "\n",
    "result_df = result.as_data_frame()\n",
    "result_df[['id']] = X_test.reset_index()[['id']]\n",
    "result_df.rename({'predict': 'cnt'}, axis=1, inplace=True)\n",
    "#display(result_df)\n",
    "\n",
    "# save to file\n",
    "filename = f'''autoML_'''\\\n",
    "           f'''{dt.datetime.now()}.csv'''\n",
    "\n",
    "result_df.to_csv('./predictions/bike_sharing_kaggle/' + filename, sep = \",\", index=False)\n",
    "print(f'''Saved as {filename}''')"
   ]
  },
  {
   "cell_type": "code",
   "execution_count": 5,
   "metadata": {},
   "outputs": [
    {
     "ename": "AttributeError",
     "evalue": "'NoneType' object has no attribute 'shutdown'",
     "output_type": "error",
     "traceback": [
      "\u001b[0;31m---------------------------------------------------------------------------\u001b[0m",
      "\u001b[0;31mAttributeError\u001b[0m                            Traceback (most recent call last)",
      "\u001b[0;32m<ipython-input-5-4d4ecf60c91c>\u001b[0m in \u001b[0;36m<module>\u001b[0;34m\u001b[0m\n\u001b[1;32m      1\u001b[0m \u001b[0;31m# shutdown h2o cluster\u001b[0m\u001b[0;34m\u001b[0m\u001b[0;34m\u001b[0m\u001b[0m\n\u001b[0;32m----> 2\u001b[0;31m \u001b[0mh2o\u001b[0m\u001b[0;34m.\u001b[0m\u001b[0mcluster\u001b[0m\u001b[0;34m(\u001b[0m\u001b[0;34m)\u001b[0m\u001b[0;34m.\u001b[0m\u001b[0mshutdown\u001b[0m\u001b[0;34m(\u001b[0m\u001b[0;34m)\u001b[0m\u001b[0;34m\u001b[0m\u001b[0m\n\u001b[0m",
      "\u001b[0;31mAttributeError\u001b[0m: 'NoneType' object has no attribute 'shutdown'"
     ]
    }
   ],
   "source": [
    "# shutdown h2o cluster\n",
    "h2o.cluster().shutdown()"
   ]
  },
  {
   "cell_type": "code",
   "execution_count": null,
   "metadata": {},
   "outputs": [],
   "source": []
  }
 ],
 "metadata": {
  "kernelspec": {
   "display_name": "Python 3",
   "language": "python",
   "name": "python3"
  }
 },
 "nbformat": 4,
 "nbformat_minor": 1
}
