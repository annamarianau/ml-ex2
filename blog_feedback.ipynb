{
 "cells": [
  {
   "cell_type": "markdown",
   "metadata": {},
   "source": [
    "Using only 10 rows of the training set (due to performance)\n",
    "### without preprocessing\n",
    "- runtime: 27.005s\n",
    "- best parameter settings: {'max_depth': 3, 'min_samples_split': 2, 'n_estimators': 500}\n",
    "- train scores: TBD\n",
    "- test scores: [mae] 12.814, [mse] 1662.049, [r2] -0.040\n",
    "\n",
    "### with preprocessing 1\n",
    "- preprocessing: standardized scaling\n",
    "- runtime: 27.328\n",
    "- best parameter settings: {'max_depth': 3, 'min_samples_split': 2, 'n_estimators': 500}\n",
    "- train scores: TBD\n",
    "- test scores: [mae] 11.985, [mse] 1647.030, [r2] -0.031\n",
    "\n",
    "### with preprocessing 2\n",
    "- preprocessing: standardized scaling, PCA down to 100 dimensions\n",
    "- runtime: 31.536s\n",
    "- best parameter settings: {'max_depth': 3, 'min_samples_split': 2, 'n_estimators': 500}\n",
    "- train scores: TBD\n",
    "- test scores: [mae] 15.412, [mse] 1605.100, [r2] -0.005"
   ]
  },
  {
   "cell_type": "code",
   "execution_count": 48,
   "metadata": {
    "collapsed": true
   },
   "outputs": [
    {
     "name": "stdout",
     "output_type": "stream",
     "text": [
      "        0          1    2      3     4         5         6    7      8    9    \\\n",
      "0  40.30467  53.845657  0.0  401.0  15.0  15.52416  32.44188  0.0  377.0  3.0   \n",
      "1  40.30467  53.845657  0.0  401.0  15.0  15.52416  32.44188  0.0  377.0  3.0   \n",
      "2  40.30467  53.845657  0.0  401.0  15.0  15.52416  32.44188  0.0  377.0  3.0   \n",
      "3  40.30467  53.845657  0.0  401.0  15.0  15.52416  32.44188  0.0  377.0  3.0   \n",
      "4  40.30467  53.845657  0.0  401.0  15.0  15.52416  32.44188  0.0  377.0  3.0   \n",
      "5  40.30467  53.845657  0.0  401.0  15.0  15.52416  32.44188  0.0  377.0  3.0   \n",
      "6  40.30467  53.845657  0.0  401.0  15.0  15.52416  32.44188  0.0  377.0  3.0   \n",
      "7  40.30467  53.845657  0.0  401.0  15.0  15.52416  32.44188  0.0  377.0  3.0   \n",
      "8  40.30467  53.845657  0.0  401.0  15.0  15.52416  32.44188  0.0  377.0  3.0   \n",
      "9  40.30467  53.845657  0.0  401.0  15.0  15.52416  32.44188  0.0  377.0  3.0   \n",
      "\n",
      "  ...   269  270  271  272  273  274  275  276  277  278  \n",
      "0 ...   0.0  0.0  0.0  1.0  0.0  0.0  0.0  0.0  0.0  0.0  \n",
      "1 ...   0.0  0.0  1.0  0.0  0.0  0.0  0.0  0.0  0.0  0.0  \n",
      "2 ...   0.0  0.0  1.0  0.0  0.0  0.0  0.0  0.0  0.0  0.0  \n",
      "3 ...   0.0  0.0  0.0  1.0  0.0  0.0  0.0  0.0  0.0  0.0  \n",
      "4 ...   0.0  0.0  0.0  1.0  0.0  0.0  0.0  0.0  0.0  0.0  \n",
      "5 ...   0.0  0.0  1.0  0.0  0.0  0.0  0.0  0.0  0.0  0.0  \n",
      "6 ...   0.0  0.0  1.0  0.0  0.0  0.0  0.0  0.0  0.0  0.0  \n",
      "7 ...   0.0  0.0  0.0  1.0  0.0  0.0  0.0  0.0  0.0  0.0  \n",
      "8 ...   0.0  0.0  0.0  1.0  0.0  0.0  0.0  0.0  0.0  0.0  \n",
      "9 ...   0.0  0.0  0.0  1.0  0.0  0.0  0.0  0.0  0.0  0.0  \n",
      "\n",
      "[10 rows x 279 columns]\n"
     ]
    },
    {
     "name": "stderr",
     "output_type": "stream",
     "text": [
      "c:\\users\\david\\appdata\\local\\programs\\python\\python36-32\\lib\\site-packages\\pandas\\core\\frame.py:3140: SettingWithCopyWarning: \n",
      "A value is trying to be set on a copy of a slice from a DataFrame.\n",
      "Try using .loc[row_indexer,col_indexer] = value instead\n",
      "\n",
      "See the caveats in the documentation: http://pandas.pydata.org/pandas-docs/stable/indexing.html#indexing-view-versus-copy\n",
      "  self[k1] = value[k2]\n"
     ]
    },
    {
     "name": "stdout",
     "output_type": "stream",
     "text": [
      "        0         1         2         3         4         5         6    \\\n",
      "0  0.010876  0.112877 -0.052468  0.138521 -0.139108  0.009598  0.116182   \n",
      "1  0.010876  0.112877 -0.052468  0.138521 -0.139108  0.009598  0.116182   \n",
      "2  0.010876  0.112877 -0.052468  0.138521 -0.139108  0.009598  0.116182   \n",
      "3  0.010876  0.112877 -0.052468  0.138521 -0.139108  0.009598  0.116182   \n",
      "4  0.010876  0.112877 -0.052468  0.138521 -0.139108  0.009598  0.116182   \n",
      "5  0.010876  0.112877 -0.052468  0.138521 -0.139108  0.009598  0.116182   \n",
      "6  0.010876  0.112877 -0.052468  0.138521 -0.139108  0.009598  0.116182   \n",
      "7  0.010876  0.112877 -0.052468  0.138521 -0.139108  0.009598  0.116182   \n",
      "8  0.010876  0.112877 -0.052468  0.138521 -0.139108  0.009598  0.116182   \n",
      "9  0.010876  0.112877 -0.052468  0.138521 -0.139108  0.009598  0.116182   \n",
      "\n",
      "        7         8         9      ...         269       270       271  \\\n",
      "0 -0.020836  0.368246 -0.119031    ...    -0.43518 -0.448846 -0.454696   \n",
      "1 -0.020836  0.368246 -0.119031    ...    -0.43518 -0.448846  2.199274   \n",
      "2 -0.020836  0.368246 -0.119031    ...    -0.43518 -0.448846  2.199274   \n",
      "3 -0.020836  0.368246 -0.119031    ...    -0.43518 -0.448846 -0.454696   \n",
      "4 -0.020836  0.368246 -0.119031    ...    -0.43518 -0.448846 -0.454696   \n",
      "5 -0.020836  0.368246 -0.119031    ...    -0.43518 -0.448846  2.199274   \n",
      "6 -0.020836  0.368246 -0.119031    ...    -0.43518 -0.448846  2.199274   \n",
      "7 -0.020836  0.368246 -0.119031    ...    -0.43518 -0.448846 -0.454696   \n",
      "8 -0.020836  0.368246 -0.119031    ...    -0.43518 -0.448846 -0.454696   \n",
      "9 -0.020836  0.368246 -0.119031    ...    -0.43518 -0.448846 -0.454696   \n",
      "\n",
      "        272       273       274       275      276  277       278  \n",
      "0  2.272362 -0.427399 -0.326158 -0.312402 -0.08286  0.0 -0.045171  \n",
      "1 -0.440071 -0.427399 -0.326158 -0.312402 -0.08286  0.0 -0.045171  \n",
      "2 -0.440071 -0.427399 -0.326158 -0.312402 -0.08286  0.0 -0.045171  \n",
      "3  2.272362 -0.427399 -0.326158 -0.312402 -0.08286  0.0 -0.045171  \n",
      "4  2.272362 -0.427399 -0.326158 -0.312402 -0.08286  0.0 -0.045171  \n",
      "5 -0.440071 -0.427399 -0.326158 -0.312402 -0.08286  0.0 -0.045171  \n",
      "6 -0.440071 -0.427399 -0.326158 -0.312402 -0.08286  0.0 -0.045171  \n",
      "7  2.272362 -0.427399 -0.326158 -0.312402 -0.08286  0.0 -0.045171  \n",
      "8  2.272362 -0.427399 -0.326158 -0.312402 -0.08286  0.0 -0.045171  \n",
      "9  2.272362 -0.427399 -0.326158 -0.312402 -0.08286  0.0 -0.045171  \n",
      "\n",
      "[10 rows x 279 columns]\n",
      "GridSearch initializing...\n",
      "GradientBoostedRegressor model in training...\n",
      "GradientBoostedRegressor model selected and fitted in 31.536 s\n",
      "\n",
      "Best parameters selected by GridSearch: {'max_depth': 3, 'min_samples_split': 2, 'n_estimators': 500}\n"
     ]
    }
   ],
   "source": [
    "### Select data and train initial models\n",
    "\n",
    "%run base.ipynb\n",
    "\n",
    "train_path = 'data/blog_feedback/blogData_train.csv'\n",
    "test_path = 'data/blog_feedback/blogData_test-2012.02.01.00_00.csv'\n",
    "\n",
    "train = pd.read_csv(train_path, header=None, sep = \",\")\n",
    "test = pd.read_csv(test_path, header=None, sep=\",\")\n",
    "\n",
    "train_data = train.iloc[:,:279]\n",
    "train_target = train.iloc[:,280]\n",
    "test_data = test.iloc[:,:279]\n",
    "test_target = test.iloc[:,280]\n",
    "\n",
    "print(train_data[:10])\n",
    "train_data, test_data = scale_data(train_data, test_data)\n",
    "print(train_data[:10])\n",
    "train_data, test_data = pca(train_data, test_data, 100)\n",
    "\n",
    "# Linear Regression\n",
    "\n",
    "# SVR\n",
    "\n",
    "# Gradient Boosted Decision Tree\n",
    "param_fix = {'learning_rate': 0.01, 'loss': 'ls'}\n",
    "cv = 10\n",
    "#param_grid = {'n_estimators': [100, 500, 5]}\n",
    "param_grid = {'n_estimators': (50, 100, 150, 200, 300, 400, 500), 'max_depth': (1, 2, 3, 4, 5), 'min_samples_split': (2,3,5)}\n",
    "\n",
    "gbt = run_boosted_tree(train_data.iloc[:10,:], train_target[:10], test_data, test_target, param_fix, cv, param_grid)\n",
    "#plot_scores(gbt.cv_results_)\n",
    "#plot_training_deviance(gbt, test_data, test_target)"
   ]
  },
  {
   "cell_type": "code",
   "execution_count": 50,
   "metadata": {},
   "outputs": [
    {
     "name": "stdout",
     "output_type": "stream",
     "text": [
      "\n",
      "Metrics: [mae] 15.412, [mse] 1605.100, [r2] -0.005\n"
     ]
    }
   ],
   "source": [
    "### Test model\n",
    "\n",
    "pred = gbt.predict(test_data)\n",
    "\n",
    "# Metrics\n",
    "mae = metrics.mean_absolute_error(test_target, pred)\n",
    "mse = metrics.mean_squared_error(test_target, pred)\n",
    "r2 = metrics.r2_score(test_target, pred)\n",
    "\n",
    "print(\"\\nMetrics: [mae] %.3f, [mse] %.3f, [r2] %.3f\" % (mae, mse, r2))"
   ]
  },
  {
   "cell_type": "code",
   "execution_count": null,
   "metadata": {},
   "outputs": [],
   "source": []
  }
 ],
 "metadata": {
  "kernelspec": {
   "display_name": "Python 3",
   "language": "python",
   "name": "python3"
  },
  "language_info": {
   "codemirror_mode": {
    "name": "ipython",
    "version": 3
   },
   "file_extension": ".py",
   "mimetype": "text/x-python",
   "name": "python",
   "nbconvert_exporter": "python",
   "pygments_lexer": "ipython3",
   "version": "3.6.5"
  }
 },
 "nbformat": 4,
 "nbformat_minor": 1
}
