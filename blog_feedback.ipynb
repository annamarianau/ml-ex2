{
 "cells": [
  {
   "cell_type": "markdown",
   "metadata": {},
   "source": [
    "# Blog feedback (David)\n",
    "- https://archive.ics.uci.edu/ml/datasets/BlogFeedback\n",
    "- very large samples (60021), large dimension (281)\n",
    "- attribute characteristics: numeric"
   ]
  },
  {
   "cell_type": "markdown",
   "metadata": {},
   "source": [
    "Using only 10 rows of the training set (due to performance)\n",
    "### without preprocessing\n",
    "- runtime: 27.005s\n",
    "- best parameter settings: {'max_depth': 3, 'min_samples_split': 2, 'n_estimators': 500}\n",
    "- train scores: TBD\n",
    "- test scores: [mae] 12.814, [mse] 1662.049, [r2] -0.040\n",
    "\n",
    "### with preprocessing 1\n",
    "- preprocessing: standardized scaling\n",
    "- runtime: 27.328\n",
    "- best parameter settings: {'max_depth': 3, 'min_samples_split': 2, 'n_estimators': 500}\n",
    "- train scores: TBD\n",
    "- test scores: [mae] 11.985, [mse] 1647.030, [r2] -0.031\n",
    "\n",
    "### with preprocessing 2\n",
    "- preprocessing: standardized scaling, PCA down to 100 dimensions\n",
    "- runtime: 31.536s\n",
    "- best parameter settings: {'max_depth': 3, 'min_samples_split': 2, 'n_estimators': 500}\n",
    "- train scores: TBD\n",
    "- test scores: [mae] 15.412, [mse] 1605.100, [r2] -0.005\n",
    "\n",
    "### Notes (by Moritz)\n",
    "- from UCI: \n",
    "```0...50: Average, standard deviation, min, max and median of the Attributes 51...60 for the source of the current blog post. With source we mean the blog on which the post appeared. For example, myblog.blog.org would be the source of the post myblog.blog.org/post_2010_09_10```\n",
    "    - could drop cols 0 (1) to 49 (50) as they contain summary vals of cols 50 (51) to 59 (60).\n",
    "    - could drop cols 50 to 59 and aggregate per source\n",
    "    \n",
    "Changes:\n",
    "- pca to 15 cols\n",
    "\n",
    "### Linear Regression: \n",
    "- <1s\n",
    "- R^2 value for model: 0.3150888550163373\n",
    "- Predictions:\n",
    "    - RMSE: 23.85417\n",
    "    - R^2 Score: 0.6438838628793726\n",
    "\n",
    "### SVR\n",
    "- \n",
    "- \n",
    "- Predictions:\n",
    "    - RMSE:\n",
    "\n",
    "### GBTREE\n",
    "- \n"
   ]
  },
  {
   "cell_type": "code",
   "execution_count": 26,
   "metadata": {},
   "outputs": [],
   "source": [
    "%run base.ipynb\n",
    "%matplotlib inline"
   ]
  },
  {
   "cell_type": "code",
   "execution_count": 32,
   "metadata": {
    "scrolled": true
   },
   "outputs": [],
   "source": [
    "### Select data and train initial models\n",
    "\n",
    "train_path = 'data/blog_feedback/blogData_train.csv'\n",
    "test_path = 'data/blog_feedback/blogData_test-2012.02.01.00_00.csv'\n",
    "\n",
    "train = pd.read_csv(train_path, header=None, sep = \",\")\n",
    "test = pd.read_csv(test_path, header=None, sep=\",\")\n",
    "\n",
    "train_data = train.iloc[:,:279]\n",
    "train_target = train.iloc[:,280]\n",
    "test_data = test.iloc[:,:279]\n",
    "test_target = test.iloc[:,280]\n",
    "\n",
    "#display(train_data[:10])\n",
    "#corr_data = train_data.iloc[:, 50:]\n",
    "#correlation_matrix(corr_data, corr_data.columns)\n",
    "\n",
    "num_samples = 4000\n",
    "\n",
    "train_data = train_data.iloc[:num_samples, :]\n",
    "train_target = train_target.iloc[:num_samples]\n",
    "test_data = test_data.iloc[:num_samples, :]\n",
    "test_target = test_target.iloc[:num_samples]\n",
    "\n",
    "train_data, test_data = scale_data(train_data, test_data)\n",
    "#display(train_data[:10])\n",
    "train_data, test_data = my_pca(train_data, test_data, 15)\n",
    "#display(train_data)"
   ]
  },
  {
   "cell_type": "code",
   "execution_count": 28,
   "metadata": {
    "scrolled": true
   },
   "outputs": [
    {
     "name": "stdout",
     "output_type": "stream",
     "text": [
      "R^2 value for model: 0.19138573999092812\n",
      "Predict:\n",
      "RMSE: 29.5496\n",
      "R^2 Score: 0.45352997362628683\n"
     ]
    },
    {
     "name": "stderr",
     "output_type": "stream",
     "text": [
      "/Library/Frameworks/Python.framework/Versions/3.7/lib/python3.7/site-packages/sklearn/linear_model/base.py:485: RuntimeWarning: internal gelsd driver lwork query error, required iwork dimension not returned. This is likely the result of LAPACK bug 0038, fixed in LAPACK 3.2.2 (released July 21, 2010). Falling back to 'gelss' driver.\n",
      "  linalg.lstsq(X, y)\n"
     ]
    }
   ],
   "source": [
    "# Linear Regression\n",
    "reg = linear_reg(train_data, train_target, test_data, test_target)\n",
    "result = pd.DataFrame(reg.predict(test_data))\n",
    "\n",
    "#display(result)"
   ]
  },
  {
   "cell_type": "code",
   "execution_count": 34,
   "metadata": {},
   "outputs": [
    {
     "name": "stdout",
     "output_type": "stream",
     "text": [
      "GridSearch initializing...\n",
      "SVR model in training...\n",
      "MSE: 681.61377, RMSE: 26.10773, \n",
      "C: 1.0, kernel: rbf, epsilon: 0.5, gamma: auto \n",
      "Predict:\n",
      "RMSE: 39.98132\n",
      "R^2 Score: -0.00041\n"
     ]
    }
   ],
   "source": [
    "# SVR\n",
    "# params\n",
    "param_grid = {\n",
    "    'C': np.linspace(.2,1,5),\n",
    "    'kernel': ['linear', 'rbf'],# 'sigmoid', 'poly'], # poly very slow\n",
    "    'epsilon': np.linspace(0,.5,6),\n",
    "    'gamma': ['auto']\n",
    "}\n",
    "\n",
    "# run grid search\n",
    "gs = run_svr(train_data, train_target, cv=5, param_grid=param_grid, \n",
    "             X_test=test_data, y_test=test_target)\n",
    "\n",
    "# predict\n",
    "result = pd.DataFrame(gs.best_estimator_.predict(test_data))"
   ]
  },
  {
   "cell_type": "code",
   "execution_count": 7,
   "metadata": {},
   "outputs": [
    {
     "name": "stdout",
     "output_type": "stream",
     "text": [
      "GridSearch initializing...\n",
      "GradientBoostedRegressor model in training...\n",
      "GradientBoostedRegressor model selected and fitted in 53.804 s\n",
      "\n",
      "Best parameters selected by GridSearch: {'max_depth': 4, 'min_samples_split': 5, 'n_estimators': 50}\n"
     ]
    }
   ],
   "source": [
    "# Gradient Boosted Decision Tree\n",
    "param_fix = {\n",
    "    'learning_rate': 0.01, \n",
    "    'loss': 'ls'\n",
    "}\n",
    "param_grid = {\n",
    "    'n_estimators': (50, 100, 150, 200, 300, 400, 500), \n",
    "    'max_depth': (1, 2, 3, 4, 5), \n",
    "    'min_samples_split': (2, 3, 5)\n",
    "}\n",
    "\n",
    "cv = 10\n",
    "\n",
    "gbt = run_boosted_tree(train_data.iloc[:100,:], train_target[:100], test_data, test_target, param_fix, cv, param_grid)\n",
    "#plot_scores(gbt.cv_results_)\n",
    "#plot_training_deviance(gbt, test_data, test_target)"
   ]
  },
  {
   "cell_type": "code",
   "execution_count": 3,
   "metadata": {},
   "outputs": [
    {
     "name": "stdout",
     "output_type": "stream",
     "text": [
      "\n",
      "Metrics: [mae] 14.948, [mse] 1592.432, [r2] 0.003\n"
     ]
    }
   ],
   "source": [
    "### Test model\n",
    "\n",
    "pred = gbt.predict(test_data)\n",
    "\n",
    "# Metrics\n",
    "mae = metrics.mean_absolute_error(test_target, pred)\n",
    "mse = metrics.mean_squared_error(test_target, pred)\n",
    "r2 = metrics.r2_score(test_target, pred)\n",
    "\n",
    "print(\"\\nMetrics: [mae] %.3f, [mse] %.3f, [r2] %.3f\" % (mae, mse, r2))"
   ]
  },
  {
   "cell_type": "code",
   "execution_count": null,
   "metadata": {},
   "outputs": [],
   "source": []
  }
 ],
 "metadata": {
  "kernelspec": {
   "display_name": "Python 3",
   "language": "python",
   "name": "python3"
  },
  "language_info": {
   "codemirror_mode": {
    "name": "ipython",
    "version": 3
   },
   "file_extension": ".py",
   "mimetype": "text/x-python",
   "name": "python",
   "nbconvert_exporter": "python",
   "pygments_lexer": "ipython3",
   "version": "3.7.1"
  }
 },
 "nbformat": 4,
 "nbformat_minor": 1
}
