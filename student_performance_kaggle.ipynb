{
 "cells": [
  {
   "cell_type": "markdown",
   "metadata": {},
   "source": [
    "# Student performance (Kaggle)\n",
    "- https://www.kaggle.com/c/184702-tu-ml-ws-18-student-performance\n",
    "- small samples (train = 198), medium dimension (32)\n",
    "- attribute characteristics: numeric, categorical\n",
    "- Predict: Grade\n",
    "- Result file cols: id, Grade\n",
    "- Missing values: No"
   ]
  },
  {
   "cell_type": "code",
   "execution_count": 10,
   "metadata": {},
   "outputs": [],
   "source": [
    "import pandas as pd\n",
    "import sklearn as sk\n",
    "import matplotlib.pyplot as plt"
   ]
  },
  {
   "cell_type": "code",
   "execution_count": 20,
   "metadata": {},
   "outputs": [],
   "source": [
    "train = pd.read_csv('./data/student_performance_kaggle/StudentPerformance.shuf.train.csv')\n",
    "test = pd.read_csv('./data/student_performance_kaggle/StudentPerformance.shuf.test.csv')\n",
    "#display(train)"
   ]
  },
  {
   "cell_type": "code",
   "execution_count": 21,
   "metadata": {},
   "outputs": [
    {
     "name": "stdout",
     "output_type": "stream",
     "text": [
      "Nons!\n"
     ]
    }
   ],
   "source": [
    "# Get a feeling for the dataset\n",
    "\n",
    "# Check if train DataFrame has NaNs\n",
    "if(train.isnull().values.any()): print('NaNs!')\n",
    "else: print('Nons!')\n",
    "    \n",
    "def boxplots(data):\n",
    "    for col in data.select_dtypes(['int64', 'float64']).columns:\n",
    "        fig, ax = plt.subplots()\n",
    "        bp = ax.boxplot(data[[col]].values)\n",
    "        ax.set_xlabel(col)\n",
    "        \n",
    "#boxplots(train)\n",
    "\n",
    "def histograms(data):\n",
    "    for col in data.select_dtypes(['object']).columns:\n",
    "        fig, ax = plt.subplots()\n",
    "        hg = ax.hist(data[[col]].values)\n",
    "        ax.set_xlabel(col)\n",
    "        \n",
    "#histograms(train)"
   ]
  },
  {
   "cell_type": "code",
   "execution_count": null,
   "metadata": {},
   "outputs": [],
   "source": []
  }
 ],
 "metadata": {
  "kernelspec": {
   "display_name": "Python 3",
   "language": "python",
   "name": "python3"
  },
  "language_info": {
   "codemirror_mode": {
    "name": "ipython",
    "version": 3
   },
   "file_extension": ".py",
   "mimetype": "text/x-python",
   "name": "python",
   "nbconvert_exporter": "python",
   "pygments_lexer": "ipython3",
   "version": "3.7.0"
  }
 },
 "nbformat": 4,
 "nbformat_minor": 1
}
