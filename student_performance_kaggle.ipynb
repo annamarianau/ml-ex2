{
 "cells": [
  {
   "cell_type": "markdown",
   "metadata": {},
   "source": [
    "# Student performance (Kaggle) (Moritz)\n",
    "- https://www.kaggle.com/c/184702-tu-ml-ws-18-student-performance\n",
    "- small samples (train = 198), medium dimension (32)\n",
    "- attribute characteristics: numeric, categorical\n",
    "- Predict: Grade\n",
    "- Result file cols: id, Grade\n",
    "- Missing values: No"
   ]
  },
  {
   "cell_type": "markdown",
   "metadata": {},
   "source": [
    "## with preprocessing\n",
    "- scale (fit train data to scaler, scale train and test data)\n",
    "    - _SVR:_ very long runtime without scaling\n",
    "- merge train and test data\n",
    "- one hot encode (+ drop first columns) categorical data\n",
    "\n",
    "### Linear Regression\n",
    "R^2 and RMSE created from training data without(!) train-test split.\n",
    "- without scaling \n",
    "- with all samples\n",
    "    - <1 s\n",
    "    - R^2: 0.40843\n",
    "    - RMSE: 3.56123\n",
    "    \n",
    "    \n",
    "- with preprocessing\n",
    "- with all samples:\n",
    "    - <1 s\n",
    "    - R^2: 0.40843\n",
    "    - RMSE: 3.56123\n",
    "    - Kaggle: 4.75835\n",
    "    \n",
    "### SVR\n",
    "- without scaling \n",
    "- with all samples\n",
    "    - few seconds\n",
    "    - C: 0.2, kernel: linear, epsilon: 0.5, gamma: auto \n",
    "    - RMSE: 4.25981\n",
    "    - Kaggle: 4.47988\n",
    "   \n",
    "   \n",
    "- with preprocessing\n",
    "- with all samples:\n",
    "    - few seconds\n",
    "    - C: 0.2, kernel: linear, epsilon: 0.5, gamma: auto \n",
    "    - RMSE: 4.26364\n",
    "    - Kaggle: 4.51673\n",
    "    \n",
    "### Gradient Boosted Decision Tree\n",
    "- without scaling\n",
    "- with all samples\n",
    "    - 91.043 s\n",
    "    - {'max_depth': 5, 'min_samples_split': 5, 'n_estimators': 150}\n",
    "    - RMSE: 3.88092\n",
    "    - Kaggle: 4.26606\n",
    "    \n",
    "    \n",
    "- with preprocessing\n",
    "- with all samples:\n",
    "    - few minutes\n",
    "    - {'max_depth': 5, 'min_samples_split': 5, 'n_estimators': 150}\n",
    "    - RMSE: 3.8868\n",
    "    - Kaggle: __4.24893__\n",
    "    \n",
    "### AutoML\n",
    "- without scaling\n",
    "- with all samples:\n",
    "    - few minutes (max 300/600 s)\n",
    "    - XGBoost_grid_1_AutoML_20190106_131826_model_5\n",
    "    - RMSE: 3.61816\n",
    "    - Kaggle: 4.30642\n",
    "        \n",
    "        \n",
    "- more models, more time\n",
    "    - max_models=50, max_runtime=1800\n",
    "    - <15 mins\n",
    "    - GBM_1_AutoML_20190106_151220\n",
    "    - RMSE: 3.62069\n",
    "    - Kaggle: 4.39525\n",
    "    \n",
    "    \n",
    "- more models, more time\n",
    "    - max_models=60, max_runtime=7200\n",
    "    - 2108 s\n",
    "    - GBM_1_AutoML_20190106_211629\n",
    "    - RMSE: 3.62069\n",
    "    - Kaggle: 4.39525\n",
    "    \n",
    "    \n",
    "- with preprocessing\n",
    "- with all samples\n",
    "    - few minutes (max 600 s)\n",
    "    - XGBoost_grid_1_AutoML_20190106_133539_model_5\n",
    "    - RMSE: 3.64129\n",
    "    - Kaggle: 4.30690"
   ]
  },
  {
   "cell_type": "code",
   "execution_count": 50,
   "metadata": {},
   "outputs": [],
   "source": [
    "import pandas as pd\n",
    "import sklearn as sk\n",
    "import matplotlib.pyplot as plt\n",
    "import datetime as dt\n",
    "from sklearn.metrics import mean_squared_error\n",
    "from sklearn.metrics import r2_score\n",
    "%run './base.ipynb'"
   ]
  },
  {
   "cell_type": "code",
   "execution_count": 51,
   "metadata": {
    "scrolled": true
   },
   "outputs": [],
   "source": [
    "# Import and preprocessing\n",
    "\n",
    "# read train data\n",
    "train = pd.read_csv('./data/student_performance_kaggle/StudentPerformance.shuf.train.csv')\n",
    "# add index 'train' and val of id col\n",
    "train['_index'] = 'train'\n",
    "train.set_index(['_index', 'id'], inplace=True)\n",
    "# extract, then drop 'Grade' col\n",
    "train_target = train[['Grade']]\n",
    "train.drop(['Grade'], axis='columns', inplace=True)\n",
    "\n",
    "# read test data\n",
    "test = pd.read_csv('./data/student_performance_kaggle/StudentPerformance.shuf.test.csv')\n",
    "# add index 'test' and val of id coll\n",
    "test['_index'] = 'test'\n",
    "test.set_index(['_index', 'id'], inplace=True)\n",
    "\n",
    "# scale train and test data\n",
    "#train_s, test_s = scale_data(train, test)\n",
    "\n",
    "# concat train and test data for futher preprocessing\n",
    "#data_s = pd.concat([train_s, test_s])\n",
    "data_s = pd.concat([train, test])\n",
    "\n",
    "# one hot encode data\n",
    "data_oh = one_hot(data_s, drop_first=True)\n",
    "\n",
    "#display(data_oh)\n",
    "\n",
    "# split data into train and test\n",
    "X_train = data_oh.loc['train']\n",
    "y_train = train_target\n",
    "X_test = data_oh.loc['test']\n",
    "\n",
    "#display(X_test)"
   ]
  },
  {
   "cell_type": "code",
   "execution_count": 49,
   "metadata": {
    "scrolled": true
   },
   "outputs": [
    {
     "name": "stderr",
     "output_type": "stream",
     "text": [
      "/Library/Frameworks/Python.framework/Versions/3.7/lib/python3.7/site-packages/sklearn/linear_model/base.py:485: RuntimeWarning: internal gelsd driver lwork query error, required iwork dimension not returned. This is likely the result of LAPACK bug 0038, fixed in LAPACK 3.2.2 (released July 21, 2010). Falling back to 'gelss' driver.\n",
      "  linalg.lstsq(X, y)\n"
     ]
    },
    {
     "name": "stdout",
     "output_type": "stream",
     "text": [
      "R^2 value for model: 0.40843\n",
      "Predict:\n",
      "RMSE: 3.56123\n",
      "R^2 Score: 0.40843\n",
      "Saved as lr_2019-01-06 11:44:38.341174.csv\n"
     ]
    }
   ],
   "source": [
    "# Linear Regression\n",
    "reg = linear_reg(X_train, y_train, X_train, y_train)\n",
    "result = pd.DataFrame(reg.predict(X_test), columns=['Grade'])\n",
    "\n",
    "# join id col\n",
    "result = pd.concat([X_test.reset_index()[['id']], result], axis='columns')\n",
    "\n",
    "# Save result\n",
    "filename = f'''lr_{dt.datetime.now()}.csv'''\n",
    "\n",
    "result.to_csv('./predictions/student_performance_kaggle/' + filename, sep = \",\", index=False)\n",
    "print(f'''Saved as {filename}''')\n",
    "\n",
    "#display(result)"
   ]
  },
  {
   "cell_type": "code",
   "execution_count": 12,
   "metadata": {
    "scrolled": true
   },
   "outputs": [
    {
     "name": "stdout",
     "output_type": "stream",
     "text": [
      "GridSearch initializing...\n",
      "SVR model in training...\n",
      "MSE: 18.14595, RMSE: 4.25981, \n",
      "C: 0.2, kernel: linear, epsilon: 0.5, gamma: auto \n",
      "Saved as svr_C-0.2_k-linear_e-0.5_g-auto_2019-01-05 13:12:21.368568.csv\n"
     ]
    }
   ],
   "source": [
    "# SVR\n",
    "# params\n",
    "param_grid = {\n",
    "    'C': np.linspace(.2,1,5),\n",
    "    'kernel': ['linear', 'rbf', 'sigmoid', 'poly'], # poly very slow\n",
    "    'epsilon': np.linspace(0,.5,6),\n",
    "    'gamma': ['auto', 'scale']\n",
    "}\n",
    "\n",
    "# run grid search\n",
    "gs = run_svr(X_train, y_train.values.ravel(), cv=5, param_grid=param_grid)\n",
    "\n",
    "# predict\n",
    "result = pd.DataFrame(gs.best_estimator_.predict(X_test), columns=['Grade'])\n",
    "\n",
    "# join id col\n",
    "result = pd.concat([X_test.reset_index()[['id']], result], axis='columns')\n",
    "#display(result)\n",
    "\n",
    "# Create SVR filename\n",
    "filename = f'''svr_'''\\\n",
    "           f'''C-{gs.best_estimator_.C}_'''\\\n",
    "           f'''k-{gs.best_estimator_.kernel}_'''\\\n",
    "           f'''e-{gs.best_estimator_.epsilon}_'''\\\n",
    "           f'''g-{gs.best_estimator_.gamma}_'''\\\n",
    "           f'''{dt.datetime.now()}.csv'''\n",
    "\n",
    "result.to_csv('./predictions/student_performance_kaggle/' + filename, sep = \",\", index=False)\n",
    "print(f'''Saved as {filename}''')"
   ]
  },
  {
   "cell_type": "code",
   "execution_count": 15,
   "metadata": {},
   "outputs": [
    {
     "name": "stdout",
     "output_type": "stream",
     "text": [
      "GridSearch initializing...\n",
      "GradientBoostedRegressor model in training...\n",
      "GradientBoostedRegressor model selected and fitted in 91.043 s\n",
      "\n",
      "MSE: 15.06155, RMSE: 3.88092\n",
      "Best parameters selected by GridSearch: {'max_depth': 5, 'min_samples_split': 5, 'n_estimators': 150}\n",
      "Saved as gbdtree_ne-150_md-5_mss-5_2019-01-05 13:16:29.721969.csv\n"
     ]
    }
   ],
   "source": [
    "# Gradient Boosted Decision Tree\n",
    "param_fix = {\n",
    "    'learning_rate': .01, \n",
    "    'loss': 'ls'\n",
    "}\n",
    "\n",
    "param_grid = {\n",
    "    'n_estimators': (50, 100, 150, 200, 300, 400, 500), \n",
    "    'max_depth': (1, 2, 3, 4, 5), \n",
    "    'min_samples_split': (2, 3, 5)\n",
    "}\n",
    "\n",
    "gs = run_boosted_tree(X_train, y_train.values.ravel(), [], [], param_fix=param_fix, cv=10, param_grid=param_grid)\n",
    "\n",
    "#plot_scores(gbt.cv_results_)\n",
    "#plot_training_deviance(gbt, test_data, test_target)\n",
    "\n",
    "# predict\n",
    "result = pd.DataFrame(gs.best_estimator_.predict(X_test), columns=['Grade'])\n",
    "\n",
    "# join id col\n",
    "result = pd.concat([X_test.reset_index()[['id']], result], axis='columns')\n",
    "#display(result)\n",
    "\n",
    "# Create SVR filename\n",
    "filename = f'''gbdtree_'''\\\n",
    "           f'''ne-{gs.best_estimator_.n_estimators}_'''\\\n",
    "           f'''md-{gs.best_estimator_.max_depth}_'''\\\n",
    "           f'''mss-{gs.best_estimator_.min_samples_split}_'''\\\n",
    "           f'''{dt.datetime.now()}.csv'''\n",
    "\n",
    "result.to_csv('./predictions/student_performance_kaggle/' + filename, sep = \",\", index=False)\n",
    "print(f'''Saved as {filename}''')"
   ]
  },
  {
   "cell_type": "code",
   "execution_count": 52,
   "metadata": {
    "scrolled": false
   },
   "outputs": [
    {
     "name": "stdout",
     "output_type": "stream",
     "text": [
      "Checking whether there is an H2O instance running at http://localhost:54321. connected.\n"
     ]
    },
    {
     "data": {
      "text/html": [
       "<div style=\"overflow:auto\"><table style=\"width:50%\"><tr><td>H2O cluster uptime:</td>\n",
       "<td>7 hours 40 mins</td></tr>\n",
       "<tr><td>H2O cluster timezone:</td>\n",
       "<td>Europe/Vienna</td></tr>\n",
       "<tr><td>H2O data parsing timezone:</td>\n",
       "<td>UTC</td></tr>\n",
       "<tr><td>H2O cluster version:</td>\n",
       "<td>3.22.1.1</td></tr>\n",
       "<tr><td>H2O cluster version age:</td>\n",
       "<td>9 days </td></tr>\n",
       "<tr><td>H2O cluster name:</td>\n",
       "<td>H2O_from_python_Moritz_rnh332</td></tr>\n",
       "<tr><td>H2O cluster total nodes:</td>\n",
       "<td>1</td></tr>\n",
       "<tr><td>H2O cluster free memory:</td>\n",
       "<td>2.248 Gb</td></tr>\n",
       "<tr><td>H2O cluster total cores:</td>\n",
       "<td>8</td></tr>\n",
       "<tr><td>H2O cluster allowed cores:</td>\n",
       "<td>4</td></tr>\n",
       "<tr><td>H2O cluster status:</td>\n",
       "<td>locked, healthy</td></tr>\n",
       "<tr><td>H2O connection url:</td>\n",
       "<td>http://localhost:54321</td></tr>\n",
       "<tr><td>H2O connection proxy:</td>\n",
       "<td>None</td></tr>\n",
       "<tr><td>H2O internal security:</td>\n",
       "<td>False</td></tr>\n",
       "<tr><td>H2O API Extensions:</td>\n",
       "<td>XGBoost, Algos, AutoML, Core V3, Core V4</td></tr>\n",
       "<tr><td>Python version:</td>\n",
       "<td>3.7.0 final</td></tr></table></div>"
      ],
      "text/plain": [
       "--------------------------  ----------------------------------------\n",
       "H2O cluster uptime:         7 hours 40 mins\n",
       "H2O cluster timezone:       Europe/Vienna\n",
       "H2O data parsing timezone:  UTC\n",
       "H2O cluster version:        3.22.1.1\n",
       "H2O cluster version age:    9 days\n",
       "H2O cluster name:           H2O_from_python_Moritz_rnh332\n",
       "H2O cluster total nodes:    1\n",
       "H2O cluster free memory:    2.248 Gb\n",
       "H2O cluster total cores:    8\n",
       "H2O cluster allowed cores:  4\n",
       "H2O cluster status:         locked, healthy\n",
       "H2O connection url:         http://localhost:54321\n",
       "H2O connection proxy:\n",
       "H2O internal security:      False\n",
       "H2O API Extensions:         XGBoost, Algos, AutoML, Core V3, Core V4\n",
       "Python version:             3.7.0 final\n",
       "--------------------------  ----------------------------------------"
      ]
     },
     "metadata": {},
     "output_type": "display_data"
    },
    {
     "name": "stdout",
     "output_type": "stream",
     "text": [
      "Parse progress: |█████████████████████████████████████████████████████████| 100%\n",
      "Parse progress: |█████████████████████████████████████████████████████████| 100%\n",
      "AutoML progress: |████████████████████████████████████████████████████████| 100%\n",
      "AutoML training performed in 2108.1329061985016 s.\n"
     ]
    },
    {
     "data": {
      "text/plain": [
       "'AutoML Leaderboard'"
      ]
     },
     "metadata": {},
     "output_type": "display_data"
    },
    {
     "data": {
      "text/html": [
       "<table>\n",
       "<thead>\n",
       "<tr><th>model_id                                           </th><th style=\"text-align: right;\">  mean_residual_deviance</th><th style=\"text-align: right;\">   rmse</th><th style=\"text-align: right;\">    mse</th><th style=\"text-align: right;\">    mae</th><th style=\"text-align: right;\">     rmsle</th></tr>\n",
       "</thead>\n",
       "<tbody>\n",
       "<tr><td>GBM_1_AutoML_20190106_211629                       </td><td style=\"text-align: right;\">                 13.1094</td><td style=\"text-align: right;\">3.62069</td><td style=\"text-align: right;\">13.1094</td><td style=\"text-align: right;\">2.8155 </td><td style=\"text-align: right;\">  0.649204</td></tr>\n",
       "<tr><td>XGBoost_grid_1_AutoML_20190106_211629_model_6      </td><td style=\"text-align: right;\">                 13.2591</td><td style=\"text-align: right;\">3.64131</td><td style=\"text-align: right;\">13.2591</td><td style=\"text-align: right;\">2.82833</td><td style=\"text-align: right;\">  0.738679</td></tr>\n",
       "<tr><td>XGBoost_1_AutoML_20190106_211629                   </td><td style=\"text-align: right;\">                 13.423 </td><td style=\"text-align: right;\">3.66374</td><td style=\"text-align: right;\">13.423 </td><td style=\"text-align: right;\">2.79087</td><td style=\"text-align: right;\">nan       </td></tr>\n",
       "<tr><td>XGBoost_grid_1_AutoML_20190106_211629_model_15     </td><td style=\"text-align: right;\">                 13.435 </td><td style=\"text-align: right;\">3.66537</td><td style=\"text-align: right;\">13.435 </td><td style=\"text-align: right;\">2.88957</td><td style=\"text-align: right;\">  0.689862</td></tr>\n",
       "<tr><td>StackedEnsemble_BestOfFamily_AutoML_20190106_211629</td><td style=\"text-align: right;\">                 13.4503</td><td style=\"text-align: right;\">3.66746</td><td style=\"text-align: right;\">13.4503</td><td style=\"text-align: right;\">2.8267 </td><td style=\"text-align: right;\">nan       </td></tr>\n",
       "<tr><td>XGBoost_grid_1_AutoML_20190106_211629_model_14     </td><td style=\"text-align: right;\">                 13.5741</td><td style=\"text-align: right;\">3.6843 </td><td style=\"text-align: right;\">13.5741</td><td style=\"text-align: right;\">2.8659 </td><td style=\"text-align: right;\">nan       </td></tr>\n",
       "<tr><td>XGBoost_grid_1_AutoML_20190106_211629_model_13     </td><td style=\"text-align: right;\">                 13.5962</td><td style=\"text-align: right;\">3.68731</td><td style=\"text-align: right;\">13.5962</td><td style=\"text-align: right;\">2.82454</td><td style=\"text-align: right;\">  0.627185</td></tr>\n",
       "<tr><td>StackedEnsemble_AllModels_AutoML_20190106_211629   </td><td style=\"text-align: right;\">                 13.6686</td><td style=\"text-align: right;\">3.69711</td><td style=\"text-align: right;\">13.6686</td><td style=\"text-align: right;\">2.82826</td><td style=\"text-align: right;\">  0.730744</td></tr>\n",
       "<tr><td>XGBoost_grid_1_AutoML_20190106_211629_model_5      </td><td style=\"text-align: right;\">                 13.8476</td><td style=\"text-align: right;\">3.72124</td><td style=\"text-align: right;\">13.8476</td><td style=\"text-align: right;\">2.82065</td><td style=\"text-align: right;\">  0.68809 </td></tr>\n",
       "<tr><td>GBM_4_AutoML_20190106_211629                       </td><td style=\"text-align: right;\">                 14.1335</td><td style=\"text-align: right;\">3.75946</td><td style=\"text-align: right;\">14.1335</td><td style=\"text-align: right;\">2.93219</td><td style=\"text-align: right;\">  0.709803</td></tr>\n",
       "</tbody>\n",
       "</table>"
      ]
     },
     "metadata": {},
     "output_type": "display_data"
    },
    {
     "data": {
      "text/plain": []
     },
     "metadata": {},
     "output_type": "display_data"
    }
   ],
   "source": [
    "# AutoML\n",
    "# reset indices to id col\n",
    "X_train_r = X_train.reset_index()\n",
    "#display(X_train_r)\n",
    "y_train_r = y_train.reset_index().drop(['_index'], axis=1)\n",
    "#display(y_train_r.info())\n",
    "\n",
    "# create train-test-split\n",
    "X_train1, X_test1, y_train1, y_test1 = train_test_split(X_train_r, y_train_r, random_state=100)\n",
    "train = pd.merge(X_train1, y_train1, on='id')\n",
    "\n",
    "# drop id cols from test set\n",
    "X_test2 = X_test1.drop(['id'], axis=1)\n",
    "y_test2 = y_test1.drop(['id'], axis=1)\n",
    "\n",
    "y_name = 'Grade'\n",
    "aml = run_autoML_moritz(train, y_name, X_test2, y_test2, \n",
    "                        max_models=60, max_runtime=7200)"
   ]
  },
  {
   "cell_type": "code",
   "execution_count": 53,
   "metadata": {},
   "outputs": [
    {
     "name": "stdout",
     "output_type": "stream",
     "text": [
      "Model Details\n",
      "=============\n",
      "H2OGradientBoostingEstimator :  Gradient Boosting Machine\n",
      "Model Key:  GBM_1_AutoML_20190106_211629\n",
      "\n",
      "\n",
      "ModelMetricsRegression: gbm\n",
      "** Reported on train data. **\n",
      "\n",
      "MSE: 0.44882574579644285\n",
      "RMSE: 0.669944584123525\n",
      "MAE: 0.5051495918651691\n",
      "RMSLE: 0.20301530801369005\n",
      "Mean Residual Deviance: 0.44882574579644285\n",
      "\n",
      "ModelMetricsRegression: gbm\n",
      "** Reported on cross-validation data. **\n",
      "\n",
      "MSE: 13.109400767268239\n",
      "RMSE: 3.620690647827875\n",
      "MAE: 2.815498404822502\n",
      "RMSLE: 0.6492037721377621\n",
      "Mean Residual Deviance: 13.109400767268239\n",
      "Cross-Validation Metrics Summary: \n"
     ]
    },
    {
     "data": {
      "text/html": [
       "<div style=\"overflow:auto\"><table style=\"width:50%\"><tr><td><b></b></td>\n",
       "<td><b>mean</b></td>\n",
       "<td><b>sd</b></td>\n",
       "<td><b>cv_1_valid</b></td>\n",
       "<td><b>cv_2_valid</b></td>\n",
       "<td><b>cv_3_valid</b></td>\n",
       "<td><b>cv_4_valid</b></td>\n",
       "<td><b>cv_5_valid</b></td></tr>\n",
       "<tr><td>mae</td>\n",
       "<td>2.8150265</td>\n",
       "<td>0.1394206</td>\n",
       "<td>2.8430521</td>\n",
       "<td>2.9040978</td>\n",
       "<td>2.7677615</td>\n",
       "<td>2.4792871</td>\n",
       "<td>3.0809343</td></tr>\n",
       "<tr><td>mean_residual_deviance</td>\n",
       "<td>13.119622</td>\n",
       "<td>1.424498</td>\n",
       "<td>12.186991</td>\n",
       "<td>13.756295</td>\n",
       "<td>11.902788</td>\n",
       "<td>11.013168</td>\n",
       "<td>16.73887</td></tr>\n",
       "<tr><td>mse</td>\n",
       "<td>13.119622</td>\n",
       "<td>1.424498</td>\n",
       "<td>12.186991</td>\n",
       "<td>13.756295</td>\n",
       "<td>11.902788</td>\n",
       "<td>11.013168</td>\n",
       "<td>16.73887</td></tr>\n",
       "<tr><td>r2</td>\n",
       "<td>0.320604</td>\n",
       "<td>0.1188542</td>\n",
       "<td>0.2609466</td>\n",
       "<td>0.4785771</td>\n",
       "<td>0.4665351</td>\n",
       "<td>0.3740150</td>\n",
       "<td>0.0229463</td></tr>\n",
       "<tr><td>residual_deviance</td>\n",
       "<td>13.119622</td>\n",
       "<td>1.424498</td>\n",
       "<td>12.186991</td>\n",
       "<td>13.756295</td>\n",
       "<td>11.902788</td>\n",
       "<td>11.013168</td>\n",
       "<td>16.73887</td></tr>\n",
       "<tr><td>rmse</td>\n",
       "<td>3.6119804</td>\n",
       "<td>0.1913363</td>\n",
       "<td>3.490987</td>\n",
       "<td>3.708948</td>\n",
       "<td>3.4500418</td>\n",
       "<td>3.3186092</td>\n",
       "<td>4.091316</td></tr>\n",
       "<tr><td>rmsle</td>\n",
       "<td>0.641794</td>\n",
       "<td>0.0673895</td>\n",
       "<td>0.497742</td>\n",
       "<td>0.7511578</td>\n",
       "<td>0.7228349</td>\n",
       "<td>0.5683178</td>\n",
       "<td>0.6689175</td></tr></table></div>"
      ],
      "text/plain": [
       "                        mean      sd         cv_1_valid    cv_2_valid    cv_3_valid    cv_4_valid    cv_5_valid\n",
       "----------------------  --------  ---------  ------------  ------------  ------------  ------------  ------------\n",
       "mae                     2.81503   0.139421   2.84305       2.9041        2.76776       2.47929       3.08093\n",
       "mean_residual_deviance  13.1196   1.4245     12.187        13.7563       11.9028       11.0132       16.7389\n",
       "mse                     13.1196   1.4245     12.187        13.7563       11.9028       11.0132       16.7389\n",
       "r2                      0.320604  0.118854   0.260947      0.478577      0.466535      0.374015      0.0229463\n",
       "residual_deviance       13.1196   1.4245     12.187        13.7563       11.9028       11.0132       16.7389\n",
       "rmse                    3.61198   0.191336   3.49099       3.70895       3.45004       3.31861       4.09132\n",
       "rmsle                   0.641794  0.0673895  0.497742      0.751158      0.722835      0.568318      0.668918"
      ]
     },
     "metadata": {},
     "output_type": "display_data"
    },
    {
     "name": "stdout",
     "output_type": "stream",
     "text": [
      "Scoring History: \n"
     ]
    },
    {
     "data": {
      "text/html": [
       "<div style=\"overflow:auto\"><table style=\"width:50%\"><tr><td><b></b></td>\n",
       "<td><b>timestamp</b></td>\n",
       "<td><b>duration</b></td>\n",
       "<td><b>number_of_trees</b></td>\n",
       "<td><b>training_rmse</b></td>\n",
       "<td><b>training_mae</b></td>\n",
       "<td><b>training_deviance</b></td></tr>\n",
       "<tr><td></td>\n",
       "<td>2019-01-06 21:16:35</td>\n",
       "<td> 0.247 sec</td>\n",
       "<td>0.0</td>\n",
       "<td>4.5098099</td>\n",
       "<td>3.3380205</td>\n",
       "<td>20.3383857</td></tr>\n",
       "<tr><td></td>\n",
       "<td>2019-01-06 21:16:35</td>\n",
       "<td> 0.254 sec</td>\n",
       "<td>5.0</td>\n",
       "<td>3.2972115</td>\n",
       "<td>2.4351116</td>\n",
       "<td>10.8716038</td></tr>\n",
       "<tr><td></td>\n",
       "<td>2019-01-06 21:16:35</td>\n",
       "<td> 0.260 sec</td>\n",
       "<td>10.0</td>\n",
       "<td>2.4488150</td>\n",
       "<td>1.8365814</td>\n",
       "<td>5.9966947</td></tr>\n",
       "<tr><td></td>\n",
       "<td>2019-01-06 21:16:35</td>\n",
       "<td> 0.267 sec</td>\n",
       "<td>15.0</td>\n",
       "<td>1.8991992</td>\n",
       "<td>1.4378336</td>\n",
       "<td>3.6069576</td></tr>\n",
       "<tr><td></td>\n",
       "<td>2019-01-06 21:16:35</td>\n",
       "<td> 0.273 sec</td>\n",
       "<td>20.0</td>\n",
       "<td>1.4244858</td>\n",
       "<td>1.0656341</td>\n",
       "<td>2.0291598</td></tr>\n",
       "<tr><td></td>\n",
       "<td>2019-01-06 21:16:35</td>\n",
       "<td> 0.278 sec</td>\n",
       "<td>25.0</td>\n",
       "<td>1.1230544</td>\n",
       "<td>0.8385357</td>\n",
       "<td>1.2612512</td></tr>\n",
       "<tr><td></td>\n",
       "<td>2019-01-06 21:16:35</td>\n",
       "<td> 0.298 sec</td>\n",
       "<td>30.0</td>\n",
       "<td>0.8724866</td>\n",
       "<td>0.6554668</td>\n",
       "<td>0.7612329</td></tr>\n",
       "<tr><td></td>\n",
       "<td>2019-01-06 21:16:35</td>\n",
       "<td> 0.303 sec</td>\n",
       "<td>35.0</td>\n",
       "<td>0.7426656</td>\n",
       "<td>0.5568892</td>\n",
       "<td>0.5515522</td></tr>\n",
       "<tr><td></td>\n",
       "<td>2019-01-06 21:16:35</td>\n",
       "<td> 0.306 sec</td>\n",
       "<td>37.0</td>\n",
       "<td>0.6699446</td>\n",
       "<td>0.5051496</td>\n",
       "<td>0.4488257</td></tr></table></div>"
      ],
      "text/plain": [
       "    timestamp            duration    number_of_trees    training_rmse    training_mae    training_deviance\n",
       "--  -------------------  ----------  -----------------  ---------------  --------------  -------------------\n",
       "    2019-01-06 21:16:35  0.247 sec   0                  4.50981          3.33802         20.3384\n",
       "    2019-01-06 21:16:35  0.254 sec   5                  3.29721          2.43511         10.8716\n",
       "    2019-01-06 21:16:35  0.260 sec   10                 2.44881          1.83658         5.99669\n",
       "    2019-01-06 21:16:35  0.267 sec   15                 1.8992           1.43783         3.60696\n",
       "    2019-01-06 21:16:35  0.273 sec   20                 1.42449          1.06563         2.02916\n",
       "    2019-01-06 21:16:35  0.278 sec   25                 1.12305          0.838536        1.26125\n",
       "    2019-01-06 21:16:35  0.298 sec   30                 0.872487         0.655467        0.761233\n",
       "    2019-01-06 21:16:35  0.303 sec   35                 0.742666         0.556889        0.551552\n",
       "    2019-01-06 21:16:35  0.306 sec   37                 0.669945         0.50515         0.448826"
      ]
     },
     "metadata": {},
     "output_type": "display_data"
    },
    {
     "name": "stdout",
     "output_type": "stream",
     "text": [
      "Variable Importances: \n"
     ]
    },
    {
     "data": {
      "text/html": [
       "<div style=\"overflow:auto\"><table style=\"width:50%\"><tr><td><b>variable</b></td>\n",
       "<td><b>relative_importance</b></td>\n",
       "<td><b>scaled_importance</b></td>\n",
       "<td><b>percentage</b></td></tr>\n",
       "<tr><td>failures</td>\n",
       "<td>2105.8503418</td>\n",
       "<td>1.0</td>\n",
       "<td>0.1358485</td></tr>\n",
       "<tr><td>absences</td>\n",
       "<td>1682.9316406</td>\n",
       "<td>0.7991696</td>\n",
       "<td>0.1085660</td></tr>\n",
       "<tr><td>id</td>\n",
       "<td>1237.9248047</td>\n",
       "<td>0.5878503</td>\n",
       "<td>0.0798586</td></tr>\n",
       "<tr><td>Medu</td>\n",
       "<td>1224.8724365</td>\n",
       "<td>0.5816522</td>\n",
       "<td>0.0790165</td></tr>\n",
       "<tr><td>goout</td>\n",
       "<td>946.3896484</td>\n",
       "<td>0.4494097</td>\n",
       "<td>0.0610516</td></tr>\n",
       "<tr><td>---</td>\n",
       "<td>---</td>\n",
       "<td>---</td>\n",
       "<td>---</td></tr>\n",
       "<tr><td>Fjob_health</td>\n",
       "<td>20.0193501</td>\n",
       "<td>0.0095065</td>\n",
       "<td>0.0012914</td></tr>\n",
       "<tr><td>Mjob_teacher</td>\n",
       "<td>19.1801281</td>\n",
       "<td>0.0091080</td>\n",
       "<td>0.0012373</td></tr>\n",
       "<tr><td>guardian_other</td>\n",
       "<td>15.8760872</td>\n",
       "<td>0.0075390</td>\n",
       "<td>0.0010242</td></tr>\n",
       "<tr><td>Mjob_health</td>\n",
       "<td>13.3009691</td>\n",
       "<td>0.0063162</td>\n",
       "<td>0.0008580</td></tr>\n",
       "<tr><td>Pstatus_T</td>\n",
       "<td>3.0146272</td>\n",
       "<td>0.0014315</td>\n",
       "<td>0.0001945</td></tr></table></div>"
      ],
      "text/plain": [
       "variable        relative_importance    scaled_importance      percentage\n",
       "--------------  ---------------------  ---------------------  ---------------------\n",
       "failures        2105.850341796875      1.0                    0.13584845225250222\n",
       "absences        1682.931640625         0.7991696310142306     0.10856595746048651\n",
       "id              1237.9248046875        0.5878503235093175     0.07985855660487351\n",
       "Medu            1224.8724365234375     0.5816521773709148     0.07901654804513666\n",
       "goout           946.3896484375         0.4494097370803506     0.06105161720956958\n",
       "---             ---                    ---                    ---\n",
       "Fjob_health     20.019350051879883     0.009506539783258206   0.001291448715832465\n",
       "Mjob_teacher    19.18012809753418      0.00910802050689329    0.001237310488945504\n",
       "guardian_other  15.876087188720703     0.00753903868361984    0.001024166736641497\n",
       "Mjob_health     13.300969123840332     0.006316198667988397   0.0008580458131655398\n",
       "Pstatus_T       3.01462721824646       0.0014315486520633494  0.0001944736687069618"
      ]
     },
     "metadata": {},
     "output_type": "display_data"
    },
    {
     "name": "stdout",
     "output_type": "stream",
     "text": [
      "\n",
      "See the whole table with table.as_data_frame()\n",
      "\n"
     ]
    }
   ],
   "source": [
    "print(aml.leader)"
   ]
  },
  {
   "cell_type": "code",
   "execution_count": 54,
   "metadata": {},
   "outputs": [
    {
     "name": "stdout",
     "output_type": "stream",
     "text": [
      "Parse progress: |█████████████████████████████████████████████████████████| 100%\n",
      "gbm prediction progress: |████████████████████████████████████████████████| 100%\n",
      "Saved as autoML_2019-01-06 21:53:51.664177.csv\n"
     ]
    }
   ],
   "source": [
    "# create predictions for test data\n",
    "X_test_h2o = h2o.H2OFrame(X_test.reset_index())\n",
    "result = aml.predict(X_test_h2o)\n",
    "#result.head(rows=result.nrows)\n",
    "\n",
    "result_df = result.as_data_frame()\n",
    "result_df[['id']] = X_test.reset_index()[['id']]\n",
    "result_df.rename({'predict': 'Grade'}, axis=1, inplace=True)\n",
    "#display(result_df)\n",
    "\n",
    "# save to file\n",
    "filename = f'''autoML_'''\\\n",
    "           f'''{dt.datetime.now()}.csv'''\n",
    "\n",
    "result_df.to_csv('./predictions/student_performance_kaggle/' + filename, sep = \",\", index=False)\n",
    "print(f'''Saved as {filename}''')"
   ]
  },
  {
   "cell_type": "code",
   "execution_count": 39,
   "metadata": {},
   "outputs": [
    {
     "name": "stdout",
     "output_type": "stream",
     "text": [
      "H2O session _sid_b5e8 closed.\n"
     ]
    }
   ],
   "source": [
    "# shutdown h2o cluster\n",
    "h2o.cluster().shutdown()"
   ]
  },
  {
   "cell_type": "code",
   "execution_count": 137,
   "metadata": {},
   "outputs": [
    {
     "name": "stdout",
     "output_type": "stream",
     "text": [
      "Nons!\n"
     ]
    }
   ],
   "source": [
    "# Unused\n",
    "# Get a feeling for the dataset\n",
    "\n",
    "# Check if train DataFrame has NaNs\n",
    "if(train.isnull().values.any()): print('NaNs!')\n",
    "else: print('Nons!')"
   ]
  },
  {
   "cell_type": "code",
   "execution_count": null,
   "metadata": {},
   "outputs": [],
   "source": []
  }
 ],
 "metadata": {
  "kernelspec": {
   "display_name": "Python 3",
   "language": "python",
   "name": "python3"
  },
  "language_info": {
   "codemirror_mode": {
    "name": "ipython",
    "version": 3
   },
   "file_extension": ".py",
   "mimetype": "text/x-python",
   "name": "python",
   "nbconvert_exporter": "python",
   "pygments_lexer": "ipython3",
   "version": "3.7.0"
  }
 },
 "nbformat": 4,
 "nbformat_minor": 1
}
